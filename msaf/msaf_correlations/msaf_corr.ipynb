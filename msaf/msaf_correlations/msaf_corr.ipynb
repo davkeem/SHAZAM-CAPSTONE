{
 "cells": [
  {
   "cell_type": "code",
   "execution_count": 1,
   "metadata": {},
   "outputs": [],
   "source": [
    "import glob\n",
    "import os\n",
    "import re\n",
    "import pandas as pd"
   ]
  },
  {
   "cell_type": "code",
   "execution_count": 6,
   "metadata": {},
   "outputs": [
    {
     "name": "stdout",
     "output_type": "stream",
     "text": [
      "['C:\\\\Users\\\\david\\\\fall2024\\\\capstone\\\\SHAZAM-CAPSTONE\\\\histograms\\\\hist_maxima\\\\song01_hist_maxima.csv', 'C:\\\\Users\\\\david\\\\fall2024\\\\capstone\\\\SHAZAM-CAPSTONE\\\\histograms\\\\hist_maxima\\\\song02_hist_maxima.csv', 'C:\\\\Users\\\\david\\\\fall2024\\\\capstone\\\\SHAZAM-CAPSTONE\\\\histograms\\\\hist_maxima\\\\song03_hist_maxima.csv', 'C:\\\\Users\\\\david\\\\fall2024\\\\capstone\\\\SHAZAM-CAPSTONE\\\\histograms\\\\hist_maxima\\\\song04_hist_maxima.csv', 'C:\\\\Users\\\\david\\\\fall2024\\\\capstone\\\\SHAZAM-CAPSTONE\\\\histograms\\\\hist_maxima\\\\song05_hist_maxima.csv', 'C:\\\\Users\\\\david\\\\fall2024\\\\capstone\\\\SHAZAM-CAPSTONE\\\\histograms\\\\hist_maxima\\\\song06_hist_maxima.csv', 'C:\\\\Users\\\\david\\\\fall2024\\\\capstone\\\\SHAZAM-CAPSTONE\\\\histograms\\\\hist_maxima\\\\song07_hist_maxima.csv', 'C:\\\\Users\\\\david\\\\fall2024\\\\capstone\\\\SHAZAM-CAPSTONE\\\\histograms\\\\hist_maxima\\\\song08_hist_maxima.csv', 'C:\\\\Users\\\\david\\\\fall2024\\\\capstone\\\\SHAZAM-CAPSTONE\\\\histograms\\\\hist_maxima\\\\song09_hist_maxima.csv', 'C:\\\\Users\\\\david\\\\fall2024\\\\capstone\\\\SHAZAM-CAPSTONE\\\\histograms\\\\hist_maxima\\\\song10_hist_maxima.csv', 'C:\\\\Users\\\\david\\\\fall2024\\\\capstone\\\\SHAZAM-CAPSTONE\\\\histograms\\\\hist_maxima\\\\song11_hist_maxima.csv', 'C:\\\\Users\\\\david\\\\fall2024\\\\capstone\\\\SHAZAM-CAPSTONE\\\\histograms\\\\hist_maxima\\\\song12_hist_maxima.csv', 'C:\\\\Users\\\\david\\\\fall2024\\\\capstone\\\\SHAZAM-CAPSTONE\\\\histograms\\\\hist_maxima\\\\song13_hist_maxima.csv', 'C:\\\\Users\\\\david\\\\fall2024\\\\capstone\\\\SHAZAM-CAPSTONE\\\\histograms\\\\hist_maxima\\\\song14_hist_maxima.csv', 'C:\\\\Users\\\\david\\\\fall2024\\\\capstone\\\\SHAZAM-CAPSTONE\\\\histograms\\\\hist_maxima\\\\song16_hist_maxima.csv', 'C:\\\\Users\\\\david\\\\fall2024\\\\capstone\\\\SHAZAM-CAPSTONE\\\\histograms\\\\hist_maxima\\\\song17_hist_maxima.csv', 'C:\\\\Users\\\\david\\\\fall2024\\\\capstone\\\\SHAZAM-CAPSTONE\\\\histograms\\\\hist_maxima\\\\song18_hist_maxima.csv', 'C:\\\\Users\\\\david\\\\fall2024\\\\capstone\\\\SHAZAM-CAPSTONE\\\\histograms\\\\hist_maxima\\\\song19_hist_maxima.csv', 'C:\\\\Users\\\\david\\\\fall2024\\\\capstone\\\\SHAZAM-CAPSTONE\\\\histograms\\\\hist_maxima\\\\song20_hist_maxima.csv', 'C:\\\\Users\\\\david\\\\fall2024\\\\capstone\\\\SHAZAM-CAPSTONE\\\\histograms\\\\hist_maxima\\\\song21_hist_maxima.csv']\n",
      "['C:\\\\Users\\\\david\\\\fall2024\\\\capstone\\\\SHAZAM-CAPSTONE\\\\histograms\\\\hist_minima\\\\song01_hist_minima.csv', 'C:\\\\Users\\\\david\\\\fall2024\\\\capstone\\\\SHAZAM-CAPSTONE\\\\histograms\\\\hist_minima\\\\song02_hist_minima.csv', 'C:\\\\Users\\\\david\\\\fall2024\\\\capstone\\\\SHAZAM-CAPSTONE\\\\histograms\\\\hist_minima\\\\song03_hist_minima.csv', 'C:\\\\Users\\\\david\\\\fall2024\\\\capstone\\\\SHAZAM-CAPSTONE\\\\histograms\\\\hist_minima\\\\song04_hist_minima.csv', 'C:\\\\Users\\\\david\\\\fall2024\\\\capstone\\\\SHAZAM-CAPSTONE\\\\histograms\\\\hist_minima\\\\song05_hist_minima.csv', 'C:\\\\Users\\\\david\\\\fall2024\\\\capstone\\\\SHAZAM-CAPSTONE\\\\histograms\\\\hist_minima\\\\song06_hist_minima.csv', 'C:\\\\Users\\\\david\\\\fall2024\\\\capstone\\\\SHAZAM-CAPSTONE\\\\histograms\\\\hist_minima\\\\song07_hist_minima.csv', 'C:\\\\Users\\\\david\\\\fall2024\\\\capstone\\\\SHAZAM-CAPSTONE\\\\histograms\\\\hist_minima\\\\song08_hist_minima.csv', 'C:\\\\Users\\\\david\\\\fall2024\\\\capstone\\\\SHAZAM-CAPSTONE\\\\histograms\\\\hist_minima\\\\song09_hist_minima.csv', 'C:\\\\Users\\\\david\\\\fall2024\\\\capstone\\\\SHAZAM-CAPSTONE\\\\histograms\\\\hist_minima\\\\song10_hist_minima.csv', 'C:\\\\Users\\\\david\\\\fall2024\\\\capstone\\\\SHAZAM-CAPSTONE\\\\histograms\\\\hist_minima\\\\song11_hist_minima.csv', 'C:\\\\Users\\\\david\\\\fall2024\\\\capstone\\\\SHAZAM-CAPSTONE\\\\histograms\\\\hist_minima\\\\song12_hist_minima.csv', 'C:\\\\Users\\\\david\\\\fall2024\\\\capstone\\\\SHAZAM-CAPSTONE\\\\histograms\\\\hist_minima\\\\song13_hist_minima.csv', 'C:\\\\Users\\\\david\\\\fall2024\\\\capstone\\\\SHAZAM-CAPSTONE\\\\histograms\\\\hist_minima\\\\song14_hist_minima.csv', 'C:\\\\Users\\\\david\\\\fall2024\\\\capstone\\\\SHAZAM-CAPSTONE\\\\histograms\\\\hist_minima\\\\song16_hist_minima.csv', 'C:\\\\Users\\\\david\\\\fall2024\\\\capstone\\\\SHAZAM-CAPSTONE\\\\histograms\\\\hist_minima\\\\song17_hist_minima.csv', 'C:\\\\Users\\\\david\\\\fall2024\\\\capstone\\\\SHAZAM-CAPSTONE\\\\histograms\\\\hist_minima\\\\song18_hist_minima.csv', 'C:\\\\Users\\\\david\\\\fall2024\\\\capstone\\\\SHAZAM-CAPSTONE\\\\histograms\\\\hist_minima\\\\song19_hist_minima.csv', 'C:\\\\Users\\\\david\\\\fall2024\\\\capstone\\\\SHAZAM-CAPSTONE\\\\histograms\\\\hist_minima\\\\song20_hist_minima.csv', 'C:\\\\Users\\\\david\\\\fall2024\\\\capstone\\\\SHAZAM-CAPSTONE\\\\histograms\\\\hist_minima\\\\song21_hist_minima.csv']\n"
     ]
    }
   ],
   "source": [
    "hist_max_paths = r'C:\\Users\\david\\fall2024\\capstone\\SHAZAM-CAPSTONE\\histograms\\hist_maxima'\n",
    "max_paths = glob.glob(os.path.join(hist_max_paths, '*.csv'))\n",
    "max_paths.sort(key=lambda x: int(re.search(r'song(\\d+)', x).group(1)))\n",
    "\n",
    "hist_min_paths = r'C:\\Users\\david\\fall2024\\capstone\\SHAZAM-CAPSTONE\\histograms\\hist_minima'\n",
    "min_paths = glob.glob(os.path.join(hist_min_paths, '*.csv'))\n",
    "min_paths.sort(key=lambda x: int(re.search(r'song(\\d+)', x).group(1)))\n",
    "\n",
    "print(max_paths)\n",
    "print(min_paths)"
   ]
  },
  {
   "cell_type": "code",
   "execution_count": 3,
   "metadata": {},
   "outputs": [],
   "source": [
    "import pandas as pd\n",
    "from scipy.stats import ttest_ind, pearsonr\n",
    "import matplotlib.pyplot as plt\n",
    "import seaborn as sns"
   ]
  },
  {
   "cell_type": "code",
   "execution_count": 29,
   "metadata": {},
   "outputs": [
    {
     "name": "stdout",
     "output_type": "stream",
     "text": [
      "   boundaries  labels\n",
      "0    0.417959     5.0\n",
      "1    4.597551     3.0\n",
      "2    8.730703     3.0\n",
      "3   12.910295     3.0\n",
      "4   17.089887     3.0\n",
      "   Second\n",
      "0       1\n",
      "1       8\n",
      "2      20\n",
      "3      28\n",
      "4      33\n",
      "   Second\n",
      "0       3\n",
      "1      11\n",
      "2      23\n",
      "3      30\n",
      "4      36\n"
     ]
    }
   ],
   "source": [
    "example = pd.read_csv(r'C:\\Users\\david\\fall2024\\capstone\\SHAZAM-CAPSTONE\\msaf\\msaf_dataset\\01_uptown_funk\\cbm\\01_uptown_funk_cbm_cnmf.csv')\n",
    "maxima = pd.read_csv(max_paths[0])\n",
    "minima = pd.read_csv(min_paths[0])\n",
    "\n",
    "print(example.head())\n",
    "print(maxima.head())\n",
    "print(minima.head())"
   ]
  },
  {
   "cell_type": "code",
   "execution_count": 27,
   "metadata": {},
   "outputs": [
    {
     "name": "stdout",
     "output_type": "stream",
     "text": [
      "0.2962962962962963\n",
      "0.21052631578947367\n",
      "0.2\n",
      "0.14473684210526316\n"
     ]
    }
   ],
   "source": [
    "# Method to finding correlation\n",
    "example['Second'] = example['boundaries'].round().astype(int)\n",
    "merged_min = pd.merge(example, maxima, on='Second', how='inner')\n",
    "merged_max = pd.merge(example, minima, on='Second', how='inner')\n",
    "\n",
    "min_data_accuracy = len(merged_min['Second']) / len(minima['Second']) # measures how much of the data merged\n",
    "min_correlation = len(merged_min['Second']) / len(example['Second']) # measures how much of the minimas lined up with the msaf boundaries\n",
    "print(min_data_accuracy)\n",
    "print(min_correlation)\n",
    "\n",
    "max_data_accuracy = len(merged_max['Second']) / len(maxima['Second']) # measures how much of the data merged\n",
    "max_correlation = len(merged_max['Second']) / len(example['Second']) # measures how much of the minimas lined up with the msaf boundaries\n",
    "print(max_data_accuracy)\n",
    "print(max_correlation)\n"
   ]
  },
  {
   "cell_type": "code",
   "execution_count": 28,
   "metadata": {},
   "outputs": [],
   "source": [
    "base_folder = r'C:\\Users\\david\\fall2024\\capstone\\SHAZAM-CAPSTONE\\msaf\\msaf_dataset'\n",
    "i = 0\n",
    "for subfolder in os.listdir(base_folder):\n",
    "    subfolder_path = os.path.join(base_folder, subfolder)\n",
    "    if i < len(min_paths):\n",
    "        min_hist = min_paths[i]\n",
    "        max_hist = max_paths[i]\n",
    "        i += 1\n",
    "    \n",
    "    if os.path.isdir(subfolder_path):\n",
    "        for inner_folder in os.listdir(subfolder_path):\n",
    "            inner_folder_path = os.path.join(subfolder_path, inner_folder)\n",
    "            \n",
    "            if os.path.isdir(inner_folder_path):\n",
    "                for file in os.listdir(inner_folder_path):\n",
    "                    if file.endswith('.csv'):\n",
    "                        file_path = os.path.join(inner_folder_path, file)\n",
    "                    \n",
    "                    msaf_df = pd.read_csv(file_path)\n",
    "                    min_df = pd.read_csv(min_hist)\n",
    "                    max_df = pd.read_csv(max_hist)\n",
    "\n",
    "                    msaf_df['Second'] = msaf_df['boundaries'].round().astype(int)\n",
    "                    \n",
    "                    merged_min = pd.merge(msaf_df, min_df, on='Second', how='inner')\n",
    "                    merged_max = pd.merge(msaf_df, max_df, on='Second', how='inner')"
   ]
  }
 ],
 "metadata": {
  "kernelspec": {
   "display_name": "base",
   "language": "python",
   "name": "python3"
  },
  "language_info": {
   "codemirror_mode": {
    "name": "ipython",
    "version": 3
   },
   "file_extension": ".py",
   "mimetype": "text/x-python",
   "name": "python",
   "nbconvert_exporter": "python",
   "pygments_lexer": "ipython3",
   "version": "3.12.3"
  }
 },
 "nbformat": 4,
 "nbformat_minor": 2
}
