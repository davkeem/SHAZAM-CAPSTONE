{
 "cells": [
  {
   "cell_type": "code",
   "execution_count": 28,
   "metadata": {},
   "outputs": [],
   "source": [
    "import glob\n",
    "import os\n",
    "import re\n",
    "import pandas as pd\n"
   ]
  },
  {
   "cell_type": "code",
   "execution_count": 29,
   "metadata": {},
   "outputs": [],
   "source": [
    "hist_max_paths = r'C:\\Users\\david\\fall2024\\capstone\\SHAZAM-CAPSTONE\\histograms\\hist_maxima'\n",
    "max_paths = glob.glob(os.path.join(hist_max_paths, '*.csv'))\n",
    "max_paths.sort(key=lambda x: int(re.search(r'song(\\d+)', x).group(1)))\n",
    "\n",
    "hist_min_paths = r'C:\\Users\\david\\fall2024\\capstone\\SHAZAM-CAPSTONE\\histograms\\hist_minima'\n",
    "min_paths = glob.glob(os.path.join(hist_min_paths, '*.csv'))\n",
    "min_paths.sort(key=lambda x: int(re.search(r'song(\\d+)', x).group(1)))"
   ]
  },
  {
   "cell_type": "code",
   "execution_count": 30,
   "metadata": {},
   "outputs": [],
   "source": [
    "import pandas as pd\n",
    "from scipy.stats import ttest_ind, pearsonr\n",
    "import matplotlib.pyplot as plt\n",
    "import seaborn as sns"
   ]
  },
  {
   "cell_type": "code",
   "execution_count": 35,
   "metadata": {},
   "outputs": [
    {
     "name": "stdout",
     "output_type": "stream",
     "text": [
      "   boundaries  labels\n",
      "0    0.417959     5.0\n",
      "1    4.597551     3.0\n",
      "2    8.730703     3.0\n",
      "3   12.910295     3.0\n",
      "4   17.089887     3.0\n",
      "   Second\n",
      "0       1\n",
      "1       8\n",
      "2      20\n",
      "3      28\n",
      "4      33\n",
      "   Second\n",
      "0       3\n",
      "1      11\n",
      "2      23\n",
      "3      30\n",
      "4      36\n"
     ]
    }
   ],
   "source": [
    "example = pd.read_csv(r'C:\\Users\\david\\fall2024\\capstone\\SHAZAM-CAPSTONE\\msaf\\msaf_dataset\\01_uptown_funk\\cbm\\01_uptown_funk_cbm_cnmf.csv')\n",
    "maxima = pd.read_csv(max_paths[0])\n",
    "minima = pd.read_csv(min_paths[0])\n",
    "\n",
    "print(example.head())\n",
    "print(maxima.head())\n",
    "print(minima.head())"
   ]
  },
  {
   "cell_type": "code",
   "execution_count": null,
   "metadata": {},
   "outputs": [],
   "source": []
  }
 ],
 "metadata": {
  "language_info": {
   "name": "python"
  }
 },
 "nbformat": 4,
 "nbformat_minor": 2
}
