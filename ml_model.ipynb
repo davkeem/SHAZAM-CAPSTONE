{
 "cells": [
  {
   "cell_type": "code",
   "execution_count": 1,
   "metadata": {},
   "outputs": [],
   "source": [
    "import os\n",
    "import glob\n",
    "import re\n",
    "import numpy as np\n",
    "import pandas as pd\n",
    "import tensorflow as tf\n",
    "\n",
    "from sklearn.model_selection import train_test_split"
   ]
  },
  {
   "cell_type": "code",
   "execution_count": null,
   "metadata": {},
   "outputs": [],
   "source": [
    "ml_data_folder = r'C:\\Users\\david\\fall2024\\capstone\\SHAZAM-CAPSTONE\\ml_processed_data'\n",
    "\n",
    "data_paths = glob.glob(os.path.join(ml_data_folder, '*.csv'))\n",
    "data_paths.sort(key=lambda x: int(re.search(r'song(\\d+)', os.path.basename(x)).group(1)))\n",
    "\n",
    "test_path = data_paths[-1]\n",
    "data_paths.pop()\n",
    "\n",
    "all_data = []\n",
    "\n",
    "for file in data_paths:\n",
    "    data = pd.read_csv(file)\n",
    "    all_data.append(data)\n",
    "\n",
    "train_data = pd.concat(all_data, ignore_index=True)\n",
    "X_train = train_data.drop(columns=['count'])\n",
    "y_train = train_data['count']\n",
    "\n",
    "test_data = pd.read_csv(test_path)\n",
    "X_test = test_data.drop(columns=['count'])\n",
    "y_test = test_data['count']"
   ]
  }
 ],
 "metadata": {
  "kernelspec": {
   "display_name": "ml_env",
   "language": "python",
   "name": "python3"
  },
  "language_info": {
   "codemirror_mode": {
    "name": "ipython",
    "version": 3
   },
   "file_extension": ".py",
   "mimetype": "text/x-python",
   "name": "python",
   "nbconvert_exporter": "python",
   "pygments_lexer": "ipython3",
   "version": "3.8.18"
  }
 },
 "nbformat": 4,
 "nbformat_minor": 2
}
